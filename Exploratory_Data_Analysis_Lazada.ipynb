{
  "nbformat": 4,
  "nbformat_minor": 0,
  "metadata": {
    "kernelspec": {
      "display_name": "Python 3",
      "language": "python",
      "name": "python3"
    },
    "language_info": {
      "codemirror_mode": {
        "name": "ipython",
        "version": 3
      },
      "file_extension": ".py",
      "mimetype": "text/x-python",
      "name": "python",
      "nbconvert_exporter": "python",
      "pygments_lexer": "ipython3",
      "version": "3.7.0"
    },
    "colab": {
      "name": "Exploratory Data Analysis - Lazada.ipynb",
      "version": "0.3.2",
      "provenance": [],
      "collapsed_sections": [],
      "include_colab_link": true
    }
  },
  "cells": [
    {
      "cell_type": "markdown",
      "metadata": {
        "id": "view-in-github",
        "colab_type": "text"
      },
      "source": [
        "<a href=\"https://colab.research.google.com/github/novaaky/Lazada/blob/master/Exploratory_Data_Analysis_Lazada.ipynb\" target=\"_parent\"><img src=\"https://colab.research.google.com/assets/colab-badge.svg\" alt=\"Open In Colab\"/></a>"
      ]
    },
    {
      "cell_type": "markdown",
      "metadata": {
        "id": "-dPDbkN-S4Fg",
        "colab_type": "text"
      },
      "source": [
        "##  Exploratory Data Analysis\n",
        "\n",
        "In any Data Science project, the first step is to perform <b>Exploratory Data Analysis</b> (EDA) on the dataset. EDA is the first step for us to begin understanding the dataset and in doing so, answer some of the common assumptions we have of our data so that we are able to understand how to better prepare it for further analysis.\n",
        "\n",
        "We will be doing the following steps in our EDA:\n",
        "\n",
        "1. Read File\n",
        "2. Preview Data\n",
        "3. Clean Data\n",
        "4. Explore with Questions\n",
        "5. Visualise\n",
        "\n",
        "## Lazada Dataset\n",
        "<img src=\"https://s.yimg.com/ny/api/res/1.2/_qLpCqbdgKq0nnY3UDmI2w--~A/YXBwaWQ9aGlnaGxhbmRlcjtzbT0xO3c9NzQ0O2g9Mzcy/http://media.zenfs.com/en/homerun/feed_manager_auto_publish_494/87db61c8ea6d6fcc4122595bb0c0c2c5\" width=\"400\">\n",
        "\n",
        "This dataset has been source from the Lazada marketplace, where we have above <b>36 thousand rows</b> of data to work with. <b>Each row represents one product</b>. Opening this file in Microsoft Excel would look like this:\n",
        "\n",
        "<img src=\"https://i.imgur.com/E0QJP92.png\">\n",
        "\n",
        "We're going to do some simple analysis with these products and see what we can come up with."
      ]
    },
    {
      "cell_type": "markdown",
      "metadata": {
        "id": "BF1vKjpeS4Fq",
        "colab_type": "text"
      },
      "source": [
        "<h2>Step 1: Reading the Lazada Dataset </h2>\n",
        "\n",
        "### Practice 1\n",
        "Just as you did in your recap, read the `lazada_data.csv` file in to a list of dictionaries and store them in to a variable called `lazada_data`."
      ]
    },
    {
      "cell_type": "code",
      "metadata": {
        "id": "Vi39Kl2bS4Fv",
        "colab_type": "code",
        "outputId": "b43b3344-429d-4865-f3f0-96f4a9b46b8e",
        "colab": {
          "base_uri": "https://localhost:8080/",
          "height": 340
        }
      },
      "source": [
        "import pandas as pd\n",
        "url = 'https://raw.githubusercontent.com/novaaky/Lazada/master/lazada_data.csv'\n",
        "\n",
        "df = pd.read_csv(url)\n",
        "df.head()\n"
      ],
      "execution_count": 31,
      "outputs": [
        {
          "output_type": "execute_result",
          "data": {
            "text/html": [
              "<div>\n",
              "<style scoped>\n",
              "    .dataframe tbody tr th:only-of-type {\n",
              "        vertical-align: middle;\n",
              "    }\n",
              "\n",
              "    .dataframe tbody tr th {\n",
              "        vertical-align: top;\n",
              "    }\n",
              "\n",
              "    .dataframe thead th {\n",
              "        text-align: right;\n",
              "    }\n",
              "</style>\n",
              "<table border=\"1\" class=\"dataframe\">\n",
              "  <thead>\n",
              "    <tr style=\"text-align: right;\">\n",
              "      <th></th>\n",
              "      <th>country</th>\n",
              "      <th>sku_id</th>\n",
              "      <th>title</th>\n",
              "      <th>category_lvl_1</th>\n",
              "      <th>category_lvl_2</th>\n",
              "      <th>category_lvl_3</th>\n",
              "      <th>short_description</th>\n",
              "      <th>price</th>\n",
              "      <th>product_type</th>\n",
              "    </tr>\n",
              "  </thead>\n",
              "  <tbody>\n",
              "    <tr>\n",
              "      <th>0</th>\n",
              "      <td>my</td>\n",
              "      <td>AD674FAASTLXANMY</td>\n",
              "      <td>Adana Gallery Suri Square Hijab – Light Pink</td>\n",
              "      <td>Fashion</td>\n",
              "      <td>Women</td>\n",
              "      <td>Muslim Wear</td>\n",
              "      <td>&lt;ul&gt;&lt;li&gt;Material : Non sheer shimmer chiffon&lt;/...</td>\n",
              "      <td>49.00</td>\n",
              "      <td>local</td>\n",
              "    </tr>\n",
              "    <tr>\n",
              "      <th>1</th>\n",
              "      <td>my</td>\n",
              "      <td>AE068HBAA3RPRDANMY</td>\n",
              "      <td>Cuba Heartbreaker Eau De Parfum Spray 100ml/3.3oz</td>\n",
              "      <td>Health &amp; Beauty</td>\n",
              "      <td>Bath &amp; Body</td>\n",
              "      <td>Hand &amp; Foot Care</td>\n",
              "      <td>Formulated with oil-free hydrating botanicals/...</td>\n",
              "      <td>128.00</td>\n",
              "      <td>international</td>\n",
              "    </tr>\n",
              "    <tr>\n",
              "      <th>2</th>\n",
              "      <td>my</td>\n",
              "      <td>AN680ELAA9VN57ANMY</td>\n",
              "      <td>Andoer 150cm Cellphone Smartphone Mini Dual-He...</td>\n",
              "      <td>TV Audio / Video Gaming &amp; Wearables</td>\n",
              "      <td>Audio</td>\n",
              "      <td>Live Sound &amp; Stage</td>\n",
              "      <td>&lt;ul&gt; &lt;li&gt;150cm mini microphone compatible for ...</td>\n",
              "      <td>25.07</td>\n",
              "      <td>international</td>\n",
              "    </tr>\n",
              "    <tr>\n",
              "      <th>3</th>\n",
              "      <td>my</td>\n",
              "      <td>AN957HBAAAHDF4ANMY</td>\n",
              "      <td>ANMYNA Complaint Silky Set 柔顺洗发配套 (Shampoo 520...</td>\n",
              "      <td>Health &amp; Beauty</td>\n",
              "      <td>Hair Care</td>\n",
              "      <td>Shampoos &amp; Conditioners</td>\n",
              "      <td>&lt;ul&gt; &lt;li&gt;ANMYNA Complaint Silky Set (Shampoo 5...</td>\n",
              "      <td>118.00</td>\n",
              "      <td>local</td>\n",
              "    </tr>\n",
              "    <tr>\n",
              "      <th>4</th>\n",
              "      <td>my</td>\n",
              "      <td>AR511HBAXNWAANMY</td>\n",
              "      <td>Argital Argiltubo Green Clay For Face and Body...</td>\n",
              "      <td>Health &amp; Beauty</td>\n",
              "      <td>Men's Care</td>\n",
              "      <td>Body and Skin Care</td>\n",
              "      <td>&lt;ul&gt; &lt;li&gt;100% Authentic&lt;/li&gt; &lt;li&gt;Rrefresh and ...</td>\n",
              "      <td>114.80</td>\n",
              "      <td>international</td>\n",
              "    </tr>\n",
              "  </tbody>\n",
              "</table>\n",
              "</div>"
            ],
            "text/plain": [
              "  country              sku_id  ...   price   product_type\n",
              "0      my    AD674FAASTLXANMY  ...   49.00          local\n",
              "1      my  AE068HBAA3RPRDANMY  ...  128.00  international\n",
              "2      my  AN680ELAA9VN57ANMY  ...   25.07  international\n",
              "3      my  AN957HBAAAHDF4ANMY  ...  118.00          local\n",
              "4      my    AR511HBAXNWAANMY  ...  114.80  international\n",
              "\n",
              "[5 rows x 9 columns]"
            ]
          },
          "metadata": {
            "tags": []
          },
          "execution_count": 31
        }
      ]
    },
    {
      "cell_type": "code",
      "metadata": {
        "id": "5QID-6PkUeMe",
        "colab_type": "code",
        "outputId": "140d7ac4-1123-458b-eb75-4fbbffee7283",
        "colab": {
          "base_uri": "https://localhost:8080/",
          "height": 187
        }
      },
      "source": [
        "df.dtypes"
      ],
      "execution_count": 32,
      "outputs": [
        {
          "output_type": "execute_result",
          "data": {
            "text/plain": [
              "country               object\n",
              "sku_id                object\n",
              "title                 object\n",
              "category_lvl_1        object\n",
              "category_lvl_2        object\n",
              "category_lvl_3        object\n",
              "short_description     object\n",
              "price                float64\n",
              "product_type          object\n",
              "dtype: object"
            ]
          },
          "metadata": {
            "tags": []
          },
          "execution_count": 32
        }
      ]
    },
    {
      "cell_type": "markdown",
      "metadata": {
        "id": "D8bZzesWS4GK",
        "colab_type": "text"
      },
      "source": [
        "<h2>Step 2: Preview Data </h2>\n",
        "\n",
        "As you might have seen in all the lab exercises, we've always previewed the data. This step is crucial because it allows us to first visually understand what is going on with our data, if there is any problems with it and if so, how we can go about tackling these issues.\n",
        "\n",
        "Previewing this data would give you something that looks like this:\n",
        "```python\n",
        "    {\n",
        "        'country': 'my',\n",
        "        'sku_id': 'AD674FAASTLXANMY',\n",
        "        'title': 'Adana Gallery Suri Square Hijab – Light Pink',\n",
        "        'category_lvl_1': 'Fashion',\n",
        "        'category_lvl_2': 'Women',\n",
        "        'category_lvl_3': 'Muslim Wear',\n",
        "        'short_description': '<ul><li>Material : Non sheer shimmer chiffon</li><li>Sizes : 52 x 52 inches OR 56 x 56 inches</li><li>Cut\\xa0with curved ends</li></ul>',\n",
        "        'price': '49',\n",
        "        'product_type': 'local'\n",
        "    }\n",
        "```"
      ]
    },
    {
      "cell_type": "markdown",
      "metadata": {
        "id": "647pqGB_S4Gt",
        "colab_type": "text"
      },
      "source": [
        "<h2>Step 3: Data Cleaning </h2>\n",
        "As you've might observed, after previewing the data, we've realised some issues. In any Data Science project, data cleaning can take up to <b>80%</b> of the project time because of the numerous special cases you need to be aware of and <i>clean</i> them up for you to be able to use them.\n",
        "\n",
        "After previewing the data, we've observed the following issues with the Lazada dataset. They are the following:\n",
        "\n",
        "1. The `price` column is a `string`\n",
        "2. The `title` column has special characters like ()<> and so on\n",
        "3. The `short_description` column has special characters like ()<> and so on\n",
        "\n",
        "#### Practice 2\n",
        "We're going to practice some simple data cleaning. The other 2 issues have been resolved for you. Your job is simple:\n",
        "\n",
        "1. Clean the `price` column\n",
        "\n",
        "Our primary goal is to turn what we saw in the preview earlier and turn our dictionaries to this :\n",
        "```python\n",
        "    {\n",
        "        'country': 'my', \n",
        "        'sku_id': 'AD674FAASTLXANMY', \n",
        "        'title': 'Adana Gallery Suri Square Hijab   Light Pink', \n",
        "        'category_lvl_1': 'Fashion', \n",
        "        'category_lvl_2': 'Women', \n",
        "        'category_lvl_3': 'Muslim Wear', \n",
        "        'short_description': 'Material : Non sheer shimmer chiffon  Sizes : 52 x 52 inches OR 56 x 56 inches  Cut\\xa0with curved ends', \n",
        "        'price': 49.0, \n",
        "        'product_type': 'local'\n",
        "    }\n",
        "```"
      ]
    },
    {
      "cell_type": "code",
      "metadata": {
        "id": "SitJxyS0d62c",
        "colab_type": "code",
        "outputId": "699c1fdb-5ee9-4ddf-82ba-67359bb9a3d5",
        "colab": {
          "base_uri": "https://localhost:8080/",
          "height": 34
        }
      },
      "source": [
        "import re\n",
        "\n",
        "my_name = re.findall('Asyl\\w*', 'Asylzhan ?!!! Akynova Asyl')\n",
        "\n",
        "print(my_name)"
      ],
      "execution_count": 33,
      "outputs": [
        {
          "output_type": "stream",
          "text": [
            "['Asylzhan', 'Asyl']\n"
          ],
          "name": "stdout"
        }
      ]
    },
    {
      "cell_type": "code",
      "metadata": {
        "id": "qhdamB42gyrE",
        "colab_type": "code",
        "outputId": "8fbdec15-5bdc-4165-e730-6c5de2e11f0c",
        "colab": {
          "base_uri": "https://localhost:8080/",
          "height": 54
        }
      },
      "source": [
        "new_list = []\n",
        "\n",
        "for desc in df.short_description:\n",
        "  new_list.append(re.sub('<[^>]*>', '', str(desc)).strip())\n",
        "  \n",
        "\n",
        "print(new_list[0:6])\n",
        "\n",
        "df.short_description = new_list"
      ],
      "execution_count": 34,
      "outputs": [
        {
          "output_type": "stream",
          "text": [
            "['Material : Non sheer shimmer chiffonSizes : 52 x 52 inches OR 56 x 56 inchesCut\\xa0with curved ends', 'Formulated with oil-free hydrating botanicals/ Remarkably improves skin texture of abused hands/Restores soft smooth & refined hands', '150cm mini microphone compatible for iPhone various smartphones and also for iPad/ Apple computer/ Macbook. Dual-headed design allows for two people using simultaneously. Features high sensitivity &amp; omni-directional sounds output perfect for audio and video recording. 3.5mm standard connector jack. Convenient clip-on design can clip it on your collar. 3.5mm standard connector jack. Convenient clip-on design can clip it on your collar.', 'ANMYNA Complaint Silky Set (Shampoo 520ml + Conditioner 250ml) Deep nourish Repair damaged hair Protect the scalp and prevent hair loss', '100% Authentic Rrefresh and brighten skin Anti-wrinkle and deep cleansing effects', 'Genuine Windows® 8.1 13.3in 16:9 HD TOUCH Intel® Core™ I5-5200U 4GB RAM - 500GB ROM NVIDIA® GeForce® GT 920M 2 -in-1 card reader ( SD/ SDHC) VGA Web Camera ASUS SonicMaster Lite Technology']\n"
          ],
          "name": "stdout"
        }
      ]
    },
    {
      "cell_type": "code",
      "metadata": {
        "id": "fkwpG8VfJPuI",
        "colab_type": "code",
        "colab": {
          "base_uri": "https://localhost:8080/",
          "height": 54
        },
        "outputId": "a185c187-47fc-4764-b862-e3e9430a7a4d"
      },
      "source": [
        "title_list = []\n",
        "for t in df.title:\n",
        "  title_list.append(re.sub('[^0-9A-Za-z]',' ',t))   \n",
        "  \n",
        "print(title_list[0:7])\n",
        "\n",
        "df.title = title_list"
      ],
      "execution_count": 35,
      "outputs": [
        {
          "output_type": "stream",
          "text": [
            "['Adana Gallery Suri Square Hijab   Light Pink', 'Cuba Heartbreaker Eau De Parfum Spray 100ml 3 3oz', 'Andoer 150cm Cellphone Smartphone Mini Dual Headed Omni Directional Mic Microphone with Collar Clip for iPad iPhone5 6s 6 Plus Smartphones', 'ANMYNA Complaint Silky Set         Shampoo 520ml   Conditioner 250ml ', 'Argital Argiltubo Green Clay For Face and Body 250ml', 'Asus TP300LJ DW004H Transformer Book Flip 4GB Intel Core i5 13 Inch   Free 2Year Ezi Care Warranty', 'NG 40C Ring Shaped 40W 3166lm 5400K Macro Photography Light Circle Ring Light']\n"
          ],
          "name": "stdout"
        }
      ]
    },
    {
      "cell_type": "code",
      "metadata": {
        "id": "73KfB6Q1nWAz",
        "colab_type": "code",
        "outputId": "1c3d50a7-71ba-4494-9084-e17bd4b9d1f7",
        "colab": {
          "base_uri": "https://localhost:8080/",
          "height": 289
        }
      },
      "source": [
        "df.head()"
      ],
      "execution_count": 36,
      "outputs": [
        {
          "output_type": "execute_result",
          "data": {
            "text/html": [
              "<div>\n",
              "<style scoped>\n",
              "    .dataframe tbody tr th:only-of-type {\n",
              "        vertical-align: middle;\n",
              "    }\n",
              "\n",
              "    .dataframe tbody tr th {\n",
              "        vertical-align: top;\n",
              "    }\n",
              "\n",
              "    .dataframe thead th {\n",
              "        text-align: right;\n",
              "    }\n",
              "</style>\n",
              "<table border=\"1\" class=\"dataframe\">\n",
              "  <thead>\n",
              "    <tr style=\"text-align: right;\">\n",
              "      <th></th>\n",
              "      <th>country</th>\n",
              "      <th>sku_id</th>\n",
              "      <th>title</th>\n",
              "      <th>category_lvl_1</th>\n",
              "      <th>category_lvl_2</th>\n",
              "      <th>category_lvl_3</th>\n",
              "      <th>short_description</th>\n",
              "      <th>price</th>\n",
              "      <th>product_type</th>\n",
              "    </tr>\n",
              "  </thead>\n",
              "  <tbody>\n",
              "    <tr>\n",
              "      <th>0</th>\n",
              "      <td>my</td>\n",
              "      <td>AD674FAASTLXANMY</td>\n",
              "      <td>Adana Gallery Suri Square Hijab   Light Pink</td>\n",
              "      <td>Fashion</td>\n",
              "      <td>Women</td>\n",
              "      <td>Muslim Wear</td>\n",
              "      <td>Material : Non sheer shimmer chiffonSizes : 52...</td>\n",
              "      <td>49.00</td>\n",
              "      <td>local</td>\n",
              "    </tr>\n",
              "    <tr>\n",
              "      <th>1</th>\n",
              "      <td>my</td>\n",
              "      <td>AE068HBAA3RPRDANMY</td>\n",
              "      <td>Cuba Heartbreaker Eau De Parfum Spray 100ml 3 3oz</td>\n",
              "      <td>Health &amp; Beauty</td>\n",
              "      <td>Bath &amp; Body</td>\n",
              "      <td>Hand &amp; Foot Care</td>\n",
              "      <td>Formulated with oil-free hydrating botanicals/...</td>\n",
              "      <td>128.00</td>\n",
              "      <td>international</td>\n",
              "    </tr>\n",
              "    <tr>\n",
              "      <th>2</th>\n",
              "      <td>my</td>\n",
              "      <td>AN680ELAA9VN57ANMY</td>\n",
              "      <td>Andoer 150cm Cellphone Smartphone Mini Dual He...</td>\n",
              "      <td>TV Audio / Video Gaming &amp; Wearables</td>\n",
              "      <td>Audio</td>\n",
              "      <td>Live Sound &amp; Stage</td>\n",
              "      <td>150cm mini microphone compatible for iPhone va...</td>\n",
              "      <td>25.07</td>\n",
              "      <td>international</td>\n",
              "    </tr>\n",
              "    <tr>\n",
              "      <th>3</th>\n",
              "      <td>my</td>\n",
              "      <td>AN957HBAAAHDF4ANMY</td>\n",
              "      <td>ANMYNA Complaint Silky Set         Shampoo 520...</td>\n",
              "      <td>Health &amp; Beauty</td>\n",
              "      <td>Hair Care</td>\n",
              "      <td>Shampoos &amp; Conditioners</td>\n",
              "      <td>ANMYNA Complaint Silky Set (Shampoo 520ml + Co...</td>\n",
              "      <td>118.00</td>\n",
              "      <td>local</td>\n",
              "    </tr>\n",
              "    <tr>\n",
              "      <th>4</th>\n",
              "      <td>my</td>\n",
              "      <td>AR511HBAXNWAANMY</td>\n",
              "      <td>Argital Argiltubo Green Clay For Face and Body...</td>\n",
              "      <td>Health &amp; Beauty</td>\n",
              "      <td>Men's Care</td>\n",
              "      <td>Body and Skin Care</td>\n",
              "      <td>100% Authentic Rrefresh and brighten skin Anti...</td>\n",
              "      <td>114.80</td>\n",
              "      <td>international</td>\n",
              "    </tr>\n",
              "  </tbody>\n",
              "</table>\n",
              "</div>"
            ],
            "text/plain": [
              "  country              sku_id  ...   price   product_type\n",
              "0      my    AD674FAASTLXANMY  ...   49.00          local\n",
              "1      my  AE068HBAA3RPRDANMY  ...  128.00  international\n",
              "2      my  AN680ELAA9VN57ANMY  ...   25.07  international\n",
              "3      my  AN957HBAAAHDF4ANMY  ...  118.00          local\n",
              "4      my    AR511HBAXNWAANMY  ...  114.80  international\n",
              "\n",
              "[5 rows x 9 columns]"
            ]
          },
          "metadata": {
            "tags": []
          },
          "execution_count": 36
        }
      ]
    },
    {
      "cell_type": "markdown",
      "metadata": {
        "id": "WSTYK5HAS4HC",
        "colab_type": "text"
      },
      "source": [
        "<h2>Step 4: Explore with Questions </h2>\n",
        "\n",
        "Now that our data is cleaned, we can ask some simple questions of our data. Recall, our dataset now looks like this for 1 item:\n",
        "```python\n",
        "    {\n",
        "        'country': 'my', \n",
        "        'sku_id': 'AD674FAASTLXANMY', \n",
        "        'title': 'Adana Gallery Suri Square Hijab   Light Pink', \n",
        "        'category_lvl_1': 'Fashion', \n",
        "        'category_lvl_2': 'Women', \n",
        "        'category_lvl_3': 'Muslim Wear', \n",
        "        'short_description': 'Material : Non sheer shimmer chiffon  Sizes : 52 x 52 inches OR 56 x 56 inches  Cut\\xa0with curved ends', \n",
        "        'price': 49.0, \n",
        "        'product_type': 'local'\n",
        "    }\n",
        "```\n",
        "\n",
        "### Practice 3\n",
        "#### Question 1\n",
        "\n",
        "How many items are more than $50?\n",
        "\n",
        "<b>Expected Output:</b>\n",
        "\n",
        "    The number of items with price greater than $50 is: 21135"
      ]
    },
    {
      "cell_type": "code",
      "metadata": {
        "id": "oO1dagT1S4HG",
        "colab_type": "code",
        "outputId": "730cc57c-102f-44ef-cd18-a49e129d6a66",
        "colab": {
          "base_uri": "https://localhost:8080/",
          "height": 34
        }
      },
      "source": [
        "num_items_greater_than_50 = 0\n",
        "\n",
        "#write your code here below\n",
        "for price in df.price:\n",
        "    if price > 50:\n",
        "        num_items_greater_than_50 += 1\n",
        "print('The number of items with price greater than $50 is: ' + str(num_items_greater_than_50))"
      ],
      "execution_count": 37,
      "outputs": [
        {
          "output_type": "stream",
          "text": [
            "The number of items with price greater than $50 is: 21135\n"
          ],
          "name": "stdout"
        }
      ]
    },
    {
      "cell_type": "markdown",
      "metadata": {
        "id": "MhhZ3kPqS4HX",
        "colab_type": "text"
      },
      "source": [
        "#### Question 2\n",
        "\n",
        "How many items are listed in <b>Singapore</b>, <b>Malaysia</b>, <b>Phillippines</b>?\n",
        "\n",
        "\n",
        "<b>Expected Output:</b>\n",
        "\n",
        "    SG:  8638\n",
        "    MY:  16413\n",
        "    PH:  11232\n",
        "    "
      ]
    },
    {
      "cell_type": "code",
      "metadata": {
        "id": "eyNlxpe5S4Hh",
        "colab_type": "code",
        "outputId": "7495430e-475c-4c13-890b-83a9c7be5e2f",
        "colab": {
          "base_uri": "https://localhost:8080/",
          "height": 68
        }
      },
      "source": [
        "sg_items = 0\n",
        "my_items = 0\n",
        "ph_items = 0\n",
        "\n",
        "#write your code here below\n",
        "for country in df.country:\n",
        "    if country == 'sg':\n",
        "        sg_items += 1\n",
        "    elif country == 'my':\n",
        "        my_items += 1\n",
        "    elif country == 'ph':\n",
        "        ph_items += 1\n",
        "print('SG: ' + str(sg_items))\n",
        "print('MY: ' + str(my_items))\n",
        "print('PH: ' + str(ph_items))"
      ],
      "execution_count": 38,
      "outputs": [
        {
          "output_type": "stream",
          "text": [
            "SG: 8638\n",
            "MY: 16413\n",
            "PH: 11232\n"
          ],
          "name": "stdout"
        }
      ]
    },
    {
      "cell_type": "markdown",
      "metadata": {
        "id": "9pCVDVrQS4H7",
        "colab_type": "text"
      },
      "source": [
        "#### Question 3\n",
        "\n",
        "For the `category_1` of `Fashion`, how many items are for `Men` and how many items are for `Women`?\n",
        "\n",
        "<b>Expected Output:</b>\n",
        "\n",
        "    Male Fashion: 1609\n",
        "    Women Fashion: 3944\n",
        "    "
      ]
    },
    {
      "cell_type": "code",
      "metadata": {
        "id": "nYHCObi1S4H_",
        "colab_type": "code",
        "outputId": "fa75cb12-e914-4b4c-b54e-6e229161ecb7",
        "colab": {
          "base_uri": "https://localhost:8080/",
          "height": 51
        }
      },
      "source": [
        "fashion_men = 0\n",
        "fashion_women = 0\n",
        "\n",
        "#write your code here below\n",
        "for cat1,cat2 in zip(df.category_lvl_1, df.category_lvl_2): \n",
        "  if cat1 == 'Fashion':\n",
        "    if cat2 == 'Men':\n",
        "      fashion_men += 1\n",
        "    if cat2 == 'Women':\n",
        "      fashion_women += 1\n",
        "print('Male Fashion: ' + str(fashion_men))\n",
        "print('Women Fashion: ' + str(fashion_women))\n"
      ],
      "execution_count": 41,
      "outputs": [
        {
          "output_type": "stream",
          "text": [
            "Male Fashion: 1609\n",
            "Women Fashion: 3944\n"
          ],
          "name": "stdout"
        }
      ]
    },
    {
      "cell_type": "markdown",
      "metadata": {
        "id": "s7FWtQAbS4IL",
        "colab_type": "text"
      },
      "source": [
        "<h2>Step 5: Visualise </h2>\n",
        "\n",
        "Visualisations is a powerful tool in understanding. Provides us with a visual representation to some of the answers we might have of our data. Some of the common visualistions we can use are:\n",
        "\n",
        "1. Bar Charts\n",
        "2. Scatter Plots\n",
        "3. Histogram \n",
        "\n",
        "and many more...\n",
        "\n",
        "In order to do any of these visualisations, we need to prepare the data we need for these.\n",
        "\n",
        "### Practice 4\n",
        "\n",
        "#### Question 1\n",
        "Using counting with dictionaries, find the number of items `category_lvl_1` items there are in Singapore and store it in `SG_Products`.\n",
        "\n",
        "<b>Expected Output:</b>\n",
        "   \n",
        "       {\n",
        "           'Computers & Laptops': 698,\n",
        "           'TV Audio / Video Gaming & Wearables': 593,\n",
        "           'Fashion': 1352,\n",
        "           'Mobiles & Tablets': 1407,\n",
        "           'Health & Beauty': 1010,\n",
        "           'Home & Living': 1563,\n",
        "           'Watches Sunglasses Jewellery': 1069,\n",
        "           'Home Appliances': 434,\n",
        "           'Cameras': 512\n",
        "       }"
      ]
    },
    {
      "cell_type": "code",
      "metadata": {
        "id": "fWh15JWqS4IP",
        "colab_type": "code",
        "outputId": "745ee4b8-13bc-49e6-b813-a3836e8ab10f",
        "colab": {
          "base_uri": "https://localhost:8080/",
          "height": 170
        }
      },
      "source": [
        "import pprint\n",
        "\n",
        "SG_Products = {}\n",
        "for country, product in zip(df.country, df.category_lvl_1):\n",
        "    if country == 'sg':\n",
        "        if product not in SG_Products:\n",
        "            SG_Products[product] = 1\n",
        "        else:\n",
        "            SG_Products[product] += 1\n",
        "            \n",
        "pprint.pprint(SG_Products)"
      ],
      "execution_count": 43,
      "outputs": [
        {
          "output_type": "stream",
          "text": [
            "{'Cameras': 512,\n",
            " 'Computers & Laptops': 698,\n",
            " 'Fashion': 1352,\n",
            " 'Health & Beauty': 1010,\n",
            " 'Home & Living': 1563,\n",
            " 'Home Appliances': 434,\n",
            " 'Mobiles & Tablets': 1407,\n",
            " 'TV Audio / Video Gaming & Wearables': 593,\n",
            " 'Watches Sunglasses Jewellery': 1069}\n"
          ],
          "name": "stdout"
        }
      ]
    },
    {
      "cell_type": "markdown",
      "metadata": {
        "id": "oMOWPHEWS4Ie",
        "colab_type": "text"
      },
      "source": [
        "#### Question 2\n",
        "Using what you've done in Question 1, apply this for both Malaysia and Phillippines and store them in `MY_Products` and `PH_Products`, respectively."
      ]
    },
    {
      "cell_type": "code",
      "metadata": {
        "id": "rKtAuodGS4Is",
        "colab_type": "code",
        "outputId": "01798706-9362-4692-c185-84f973304462",
        "colab": {
          "base_uri": "https://localhost:8080/",
          "height": 170
        }
      },
      "source": [
        "MY_Products = {}\n",
        "for country, product in zip(df.country, df.category_lvl_1):\n",
        "    if country == 'my':\n",
        "        if product not in MY_Products:\n",
        "            MY_Products[product] = 1\n",
        "        else:\n",
        "            MY_Products[product] += 1\n",
        "pprint.pprint(MY_Products)"
      ],
      "execution_count": 44,
      "outputs": [
        {
          "output_type": "stream",
          "text": [
            "{'Cameras': 832,\n",
            " 'Computers & Laptops': 1452,\n",
            " 'Fashion': 2539,\n",
            " 'Health & Beauty': 1790,\n",
            " 'Home & Living': 2595,\n",
            " 'Home Appliances': 633,\n",
            " 'Mobiles & Tablets': 3666,\n",
            " 'TV Audio / Video Gaming & Wearables': 1018,\n",
            " 'Watches Sunglasses Jewellery': 1888}\n"
          ],
          "name": "stdout"
        }
      ]
    },
    {
      "cell_type": "code",
      "metadata": {
        "id": "M3UUgRENS4JF",
        "colab_type": "code",
        "outputId": "7d220765-0a6e-4cca-e329-2e2242887fab",
        "colab": {
          "base_uri": "https://localhost:8080/",
          "height": 170
        }
      },
      "source": [
        "PH_Products = {}\n",
        "for country, product in zip(df.country, df.category_lvl_1):\n",
        "    if country == 'ph':\n",
        "        if product not in PH_Products:\n",
        "            PH_Products[product] = 1\n",
        "        else:\n",
        "            PH_Products[product] += 1\n",
        "pprint.pprint(PH_Products)"
      ],
      "execution_count": 45,
      "outputs": [
        {
          "output_type": "stream",
          "text": [
            "{'Cameras': 608,\n",
            " 'Computers & Laptops': 775,\n",
            " 'Fashion': 1838,\n",
            " 'Health & Beauty': 1240,\n",
            " 'Home & Living': 1890,\n",
            " 'Home Appliances': 518,\n",
            " 'Mobiles & Tablets': 2204,\n",
            " 'TV Audio / Video Gaming & Wearables': 900,\n",
            " 'Watches Sunglasses Jewellery': 1259}\n"
          ],
          "name": "stdout"
        }
      ]
    },
    {
      "cell_type": "markdown",
      "metadata": {
        "id": "Rffcs2B_S4Jc",
        "colab_type": "text"
      },
      "source": [
        "### Bar Charts\n",
        "To begin any visualisation, we need to use external libraries to help us. To do so, we would need to use the `matplotlib` library. \n",
        "\n",
        "A good tool to compare between categories is to use bar charts. Below would be an example of such a barchart"
      ]
    },
    {
      "cell_type": "code",
      "metadata": {
        "id": "JN7HnAXJS4Ji",
        "colab_type": "code",
        "outputId": "3b49d516-9ce7-420e-fd53-c47a453f712a",
        "colab": {
          "base_uri": "https://localhost:8080/",
          "height": 620
        }
      },
      "source": [
        "import matplotlib.pyplot as plt\n",
        "%matplotlib inline\n",
        "\n",
        "fig = plt.figure()\n",
        "plt.bar(range(len(SG_Products)),\n",
        "        SG_Products.values(),\n",
        "        align = 'center')\n",
        "plt.xticks(range(len(SG_Products)),\n",
        "          SG_Products.keys(),\n",
        "          rotation = 'vertical')\n"
      ],
      "execution_count": 46,
      "outputs": [
        {
          "output_type": "execute_result",
          "data": {
            "text/plain": [
              "([<matplotlib.axis.XTick at 0x7f93e24cbbe0>,\n",
              "  <matplotlib.axis.XTick at 0x7f93e5488cf8>,\n",
              "  <matplotlib.axis.XTick at 0x7f93e5488278>,\n",
              "  <matplotlib.axis.XTick at 0x7f93e2a2bac8>,\n",
              "  <matplotlib.axis.XTick at 0x7f93e2a2be48>,\n",
              "  <matplotlib.axis.XTick at 0x7f93e2a14358>,\n",
              "  <matplotlib.axis.XTick at 0x7f93e2a14828>,\n",
              "  <matplotlib.axis.XTick at 0x7f93e2a14cf8>,\n",
              "  <matplotlib.axis.XTick at 0x7f93e2a12208>],\n",
              " <a list of 9 Text xticklabel objects>)"
            ]
          },
          "metadata": {
            "tags": []
          },
          "execution_count": 46
        },
        {
          "output_type": "display_data",
          "data": {
            "image/png": "[encoded data removed]",
            "text/plain": [
              "<Figure size 432x288 with 1 Axes>"
            ]
          },
          "metadata": {
            "tags": []
          }
        }
      ]
    },
    {
      "cell_type": "markdown",
      "metadata": {
        "id": "LfqloD2vS4Kb",
        "colab_type": "text"
      },
      "source": [
        "### Practice 5\n",
        "#### Question 1\n",
        "Apply what you've learnt from the example for the products from <b>Malaysia</b>."
      ]
    },
    {
      "cell_type": "code",
      "metadata": {
        "id": "oxJ7hydGS4Kn",
        "colab_type": "code",
        "outputId": "a0e1fd01-8dc7-43c4-f1ce-7578597d6323",
        "colab": {
          "base_uri": "https://localhost:8080/",
          "height": 620
        }
      },
      "source": [
        "#Write your code below\n",
        "import matplotlib.pyplot as plt\n",
        "%matplotlib inline\n",
        "\n",
        "fig = plt.figure()\n",
        "plt.bar(range(len(MY_Products)),\n",
        "        SG_Products.values(),\n",
        "        align = 'center')\n",
        "plt.xticks(range(len(MY_Products)),\n",
        "          SG_Products.keys(),\n",
        "          rotation = 'vertical')\n",
        "\n"
      ],
      "execution_count": 47,
      "outputs": [
        {
          "output_type": "execute_result",
          "data": {
            "text/plain": [
              "([<matplotlib.axis.XTick at 0x7f93e26538d0>,\n",
              "  <matplotlib.axis.XTick at 0x7f93e2653208>,\n",
              "  <matplotlib.axis.XTick at 0x7f93e26530b8>,\n",
              "  <matplotlib.axis.XTick at 0x7f93e2785400>,\n",
              "  <matplotlib.axis.XTick at 0x7f93e27858d0>,\n",
              "  <matplotlib.axis.XTick at 0x7f93e2785da0>,\n",
              "  <matplotlib.axis.XTick at 0x7f93e278c2b0>,\n",
              "  <matplotlib.axis.XTick at 0x7f93e278c780>,\n",
              "  <matplotlib.axis.XTick at 0x7f93e27859b0>],\n",
              " <a list of 9 Text xticklabel objects>)"
            ]
          },
          "metadata": {
            "tags": []
          },
          "execution_count": 47
        },
        {
          "output_type": "display_data",
          "data": {
            "image/png": "[encoded data removed]",
            "text/plain": [
              "<Figure size 432x288 with 1 Axes>"
            ]
          },
          "metadata": {
            "tags": []
          }
        }
      ]
    },
    {
      "cell_type": "markdown",
      "metadata": {
        "id": "y17okwpwS4K5",
        "colab_type": "text"
      },
      "source": [
        "#### Question 2\n",
        "Apply what you've learnt from the example for the products from <b>Phillippines</b>."
      ]
    },
    {
      "cell_type": "code",
      "metadata": {
        "id": "bEqm_EvJS4K8",
        "colab_type": "code",
        "outputId": "033ce61a-144b-4cd6-872b-b563808c7d70",
        "colab": {
          "base_uri": "https://localhost:8080/",
          "height": 620
        }
      },
      "source": [
        "#Write your code below\n",
        "import matplotlib.pyplot as plt\n",
        "%matplotlib inline\n",
        "\n",
        "fig = plt.figure()\n",
        "plt.bar(range(len(PH_Products)),\n",
        "        SG_Products.values(),\n",
        "        align = 'center')\n",
        "plt.xticks(range(len(PH_Products)),\n",
        "          SG_Products.keys(),\n",
        "          rotation = 'vertical')"
      ],
      "execution_count": 48,
      "outputs": [
        {
          "output_type": "execute_result",
          "data": {
            "text/plain": [
              "([<matplotlib.axis.XTick at 0x7f93e2867cc0>,\n",
              "  <matplotlib.axis.XTick at 0x7f93e28675f8>,\n",
              "  <matplotlib.axis.XTick at 0x7f93e2867320>,\n",
              "  <matplotlib.axis.XTick at 0x7f93e27297f0>,\n",
              "  <matplotlib.axis.XTick at 0x7f93e2729cc0>,\n",
              "  <matplotlib.axis.XTick at 0x7f93e27471d0>,\n",
              "  <matplotlib.axis.XTick at 0x7f93e27476a0>,\n",
              "  <matplotlib.axis.XTick at 0x7f93e2747b70>,\n",
              "  <matplotlib.axis.XTick at 0x7f93e2747c18>],\n",
              " <a list of 9 Text xticklabel objects>)"
            ]
          },
          "metadata": {
            "tags": []
          },
          "execution_count": 48
        },
        {
          "output_type": "display_data",
          "data": {
            "image/png": "[encoded data removed]",
            "text/plain": [
              "<Figure size 432x288 with 1 Axes>"
            ]
          },
          "metadata": {
            "tags": []
          }
        }
      ]
    },
    {
      "cell_type": "markdown",
      "metadata": {
        "id": "vG21ydKlS4LK",
        "colab_type": "text"
      },
      "source": [
        "### Clustered Bar Charts\n",
        "A good tool for comparing between categories side-by-side and distinguished by individual categories would be to use clustered bar charts. Below is an example done for you."
      ]
    },
    {
      "cell_type": "code",
      "metadata": {
        "scrolled": true,
        "id": "BqxGJPPRS4Lk",
        "colab_type": "code",
        "outputId": "cd3f83db-3e03-4f9e-9295-1c8bd2547907",
        "colab": {
          "base_uri": "https://localhost:8080/",
          "height": 295
        }
      },
      "source": [
        "import matplotlib.pyplot as plt\n",
        "import numpy as np\n",
        "%matplotlib inline\n",
        "N = 9 \n",
        "ind = np.arange(N)  \n",
        "width = 0.25       \n",
        "\n",
        "fig, ax = plt.subplots()\n",
        "\n",
        "rects1 = ax.barh(ind, \n",
        "                 list(SG_Products.values()), \n",
        "                 width,   color='r')\n",
        "rects2 = ax.barh(ind+width,  list(MY_Products.values()),width,  color='g')\n",
        "rects3 = ax.barh(ind+width+width, list(PH_Products.values()),width, color='b')\n",
        "\n",
        "\n",
        "ax.set_xlabel('Number of Products')\n",
        "ax.set_title('Product Distributions by Country')\n",
        "ax.set_yticks(ind)\n",
        "ax.set_yticklabels(MY_Products.keys(),rotation='horizontal')\n",
        "\n",
        "ax.legend((rects1[0], rects2[0],rects3[0]), ('SG', 'MY', 'PH'))\n",
        "\n",
        "plt.show()"
      ],
      "execution_count": 49,
      "outputs": [
        {
          "output_type": "display_data",
          "data": {
            "image/png": "[encoded data removed]",
            "text/plain": [
              "<Figure size 432x288 with 1 Axes>"
            ]
          },
          "metadata": {
            "tags": []
          }
        }
      ]
    },
    {
      "cell_type": "markdown",
      "metadata": {
        "id": "eGTplDOBS4L0",
        "colab_type": "text"
      },
      "source": [
        "### Practice 6\n",
        "Using what we've learnt earlier, let's apply this to another question, this time using the `ax.bar()` instead. \n",
        "\n",
        "<b>Let's compare between countries, the number of products for `Female` and `Male`, distinguished by country.</b>\n",
        "\n",
        "<b>Expected Output:</b>\n",
        "\n",
        "<img src=\"https://i.imgur.com/H26KoLL.png\">"
      ]
    },
    {
      "cell_type": "code",
      "metadata": {
        "id": "RH3Wo2BrS4L4",
        "colab_type": "code",
        "outputId": "ff1c099d-a395-47ee-e6b1-2e22fa511000",
        "colab": {
          "base_uri": "https://localhost:8080/",
          "height": 315
        }
      },
      "source": [
        "Women_Product_Counts = {'sg':0,'my':0,'ph':0}\n",
        "Men_Product_Counts = {'sg':0,'my':0,'ph':0}\n",
        "\n",
        "for country, category_lvl_1, category_lvl_2 in zip(df.country, df.category_lvl_1, df.category_lvl_2):\n",
        "    if country == 'sg' and category_lvl_1 =='Fashion':\n",
        "        if category_lvl_2 =='Women':\n",
        "            Women_Product_Counts['sg'] = Women_Product_Counts['sg'] + 1\n",
        "        elif category_lvl_2 =='Men':\n",
        "            Men_Product_Counts['sg'] = Men_Product_Counts['sg'] + 1\n",
        "    elif country == 'my' and category_lvl_1 =='Fashion':\n",
        "        if category_lvl_2 =='Women':\n",
        "            Women_Product_Counts['my'] = Women_Product_Counts['my'] + 1\n",
        "        elif category_lvl_2 =='Men':\n",
        "            Men_Product_Counts['my'] = Men_Product_Counts['my'] + 1\n",
        "    elif country == 'ph' and category_lvl_1 =='Fashion':\n",
        "        if category_lvl_2 =='Women':\n",
        "            Women_Product_Counts['ph'] = Women_Product_Counts['ph'] + 1\n",
        "        elif category_lvl_2 =='Men':\n",
        "            Men_Product_Counts['ph'] = Men_Product_Counts['ph'] + 1\n",
        "\n",
        "print(Women_Product_Counts)\n",
        "print(Men_Product_Counts)\n",
        "\n",
        "#========== Plot the charts ============\n",
        "N = 3 \n",
        "ind = np.arange(N)  \n",
        "width = 0.25      \n",
        "\n",
        "fig, ax = plt.subplots()\n",
        "\n",
        "rects1 = ax.bar(ind, Women_Product_Counts.values(), width, color='r')\n",
        "rects2 = ax.bar(ind+width, Men_Product_Counts.values(), width, color='b')\n",
        "\n",
        "\n",
        "\n",
        "ax.set_ylabel('Numer of Products')\n",
        "ax.set_title('Women VS Men Fashion Product Distributions')\n",
        "ax.set_xticks([0.125,1.125,2.125])\n",
        "ax.set_xticklabels(['SG','MY','PH'])\n",
        "ax.legend((rects1[0], rects2[0]), ('Women', 'Men'))\n",
        "\n",
        "plt.show()"
      ],
      "execution_count": 52,
      "outputs": [
        {
          "output_type": "stream",
          "text": [
            "{'sg': 941, 'my': 1763, 'ph': 1240}\n",
            "{'sg': 367, 'my': 700, 'ph': 542}\n"
          ],
          "name": "stdout"
        },
        {
          "output_type": "display_data",
          "data": {
            "image/png": "[encoded data removed]",
            "text/plain": [
              "<Figure size 432x288 with 1 Axes>"
            ]
          },
          "metadata": {
            "tags": []
          }
        }
      ]
    }
  ]
}